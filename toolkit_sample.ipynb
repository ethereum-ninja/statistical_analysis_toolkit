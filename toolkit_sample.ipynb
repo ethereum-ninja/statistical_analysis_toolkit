{
 "cells": [
  {
   "cell_type": "code",
   "execution_count": 111,
   "metadata": {
    "pycharm": {
     "is_executing": false
    }
   },
   "outputs": [],
   "source": [
    "import statistical_analysis_toolkit as stat_tools\n",
    "import pandas as pd\n",
    "import scipy.stats as stats\n",
    "import numpy as np\n",
    "import matplotlib.pyplot as plt\n",
    "%matplotlib inline"
   ]
  },
  {
   "cell_type": "code",
   "execution_count": null,
   "metadata": {
    "pycharm": {
     "is_executing": false
    }
   },
   "outputs": [],
   "source": [
    "#que up some data\n",
    "data = pd.DataFrame.from_dict({\"fired\":[34, 37, 37, 38, 41, 42, 43, 44, 44, 45, 45, 45, 46, 48, 49, 53, 53, 54, 54, 55, 56],\n",
    "                               'not_fired':[27, 33, 36, 37, 38, 38, 39, 42, 42, 43, 43, 44, 44, 44, 45, 45, 45, 45, 46, 46, 47, 47, 48, 48, 49, 49, 51, 51, 52, 54]}\n",
    "                              , orient='index').T\n",
    "#expected to have two columns (one for each sample, col_names = feature_names)\n",
    "#null hyp (equal means)\n",
    "h0 = 0.0\n",
    "#95% CL\n",
    "alpha = 0.05\n",
    "analysis = stat_tools.analyze_distribution(data, alpha=alpha, h0=h0)\n",
    "p_val = analysis.loc['POOLED'].p_value_t_test\n",
    "evidence = stat_tools.strength_of_evidence(p_val)\n",
    "print(f'Base on a p-value of {p_val} there is {evidence} evidence against H0={h0}')\n",
    "analysis"
   ]
  },
  {
   "cell_type": "code",
   "execution_count": null,
   "metadata": {
    "pycharm": {}
   },
   "outputs": [],
   "source": [
    "#n = stat_tools.critical_norm(.01)\n",
    "df = 8\n",
    "a = 0.05\n",
    "t = stat_tools.critical_t(a, df) #two sided\n",
    "t1 = stats.t.ppf(a, df) #one sided, lower\n",
    "[t, t1]\n",
    "\n"
   ]
  },
  {
   "cell_type": "code",
   "execution_count": null,
   "metadata": {
    "pycharm": {}
   },
   "outputs": [],
   "source": [
    "p = stat_tools.p_value_from_t(-2.54, 8, sides=1) #normal distribution - add t-distribution as well?\n"
   ]
  },
  {
   "cell_type": "code",
   "execution_count": null,
   "metadata": {
    "pycharm": {}
   },
   "outputs": [],
   "source": [
    "data = pd.read_csv('C:\\SMU\\Stats\\Homework\\HW4\\EducationData.csv')\n",
    "data = pd.DataFrame.from_dict({'12 Years':data[data.Educ == 12].Income2005,\n",
    "                              '16 Years':data[data.Educ == 16].Income2005}, orient='index').T\n",
    "\n",
    "#expected to have two columns (one for each sample, col_names = feature_names)\n",
    "#null hyp (equal means)\n",
    "h0 = 0.0\n",
    "#95% CL\n",
    "alpha = 0.05\n",
    "analysis = stat_tools.analyze_distribution(data, alpha=alpha, h0=h0)\n",
    "p_val = analysis.loc['POOLED'].p_value_t_test\n",
    "evidence = stat_tools.strength_of_evidence(p_val)\n",
    "print(f'Base on a p-value of {p_val} there is {evidence} evidence against H0={h0}')\n",
    "analysis"
   ]
  },
  {
   "cell_type": "code",
   "execution_count": null,
   "metadata": {
    "pycharm": {}
   },
   "outputs": [],
   "source": [
    "data = pd.read_csv('~/Documents/SMU/Stats/Homework/HW4/Autism.csv')[['After', 'Before']]\n",
    "\n",
    "\n",
    "#expected to have two columns (one for each sample, col_names = feature_names)\n",
    "#null hyp (equal means)\n",
    "h0 = 0.0\n",
    "#95% CL\n",
    "alpha = 0.05\n",
    "analysis = stat_tools.analyze_distribution(data, alpha=alpha, h0=h0, is_log_data=False)\n",
    "p_val = analysis.loc['POOLED'].p_value_t_test\n",
    "evidence = stat_tools.strength_of_evidence(p_val)\n",
    "print(f'Base on a p-value of {p_val} there is {evidence} evidence against H0={h0}')\n",
    "analysis"
   ]
  },
  {
   "cell_type": "code",
   "execution_count": 114,
   "metadata": {},
   "outputs": [
    {
     "data": {
      "image/png": "[encoded data removed]",
      "text/plain": [
       "<Figure size 432x288 with 3 Axes>"
      ]
     },
     "metadata": {
      "needs_background": "light"
     },
     "output_type": "display_data"
    },
    {
     "data": {
      "image/png": "[encoded data removed]",
      "text/plain": [
       "<Figure size 432x288 with 3 Axes>"
      ]
     },
     "metadata": {
      "needs_background": "light"
     },
     "output_type": "display_data"
    }
   ],
   "source": [
    "education_data = pd.read_csv('/Users/skennedy/Documents/SMU/Stats/Homework/HW5/ex0525.csv')[['Educ', 'Income2005']]\n",
    "#education_data['LogIncome2005'] = np.log(education_data.Income2005)\n",
    "education_data.Educ.replace('<12', '12', inplace=True)\n",
    "education_data.Educ.replace('>16', '16', inplace=True)\n",
    "education_data.to_csv('education_data.csv')\n",
    "anova(education_data, 'Educ', 'Income2005')\n",
    "\n",
    "#{   for education_level, data in education_data.groupby(['Educ'])}\n",
    "    \n",
    "#prep data for an anova test (one data frame with multiple columns as samples)\n"
   ]
  },
  {
   "cell_type": "code",
   "execution_count": 109,
   "metadata": {},
   "outputs": [],
   "source": [
    "def anova(data, partition_column, observable_column):\n",
    "    #test assumptions of anova graphically and numerically\n",
    "    \n",
    "    '''1) Normality: Similar to t-tools hypothesis testing, ANOVA is robust to this assumption.  \n",
    "        Extremely long-tailed distributions (outliers) or skewed distributions, \n",
    "        coupled with different sample sizes (especially when the sample sizes are small) \n",
    "        present the only serious distributional problems.'''\n",
    "    \n",
    "    '''2) Equal Standard Deviations: This assumption is crucial, paramount, and VERY important.''' \n",
    "    \n",
    "    '''3) The assumptions of independence within and across groups are critical.  \n",
    "            If lacking, different analysis should be attempted.'''\n",
    "\n",
    "    #Create logical groupings\n",
    "    groups = data.groupby([partition_column])\n",
    "    hist_fig, hist_ax = plt.subplots(len(groups), 1, sharex=True)\n",
    "    hist_fig.suptitle('Histograms Raw Data')\n",
    "    hist_fig_log, hist_ax_log = plt.subplots(len(groups), 1, sharex=True)\n",
    "    hist_fig_log.suptitle('Histograms Log Data')\n",
    "    i = 0\n",
    "    group_stats = []\n",
    "    for group_key, group in groups:\n",
    "        clean_data  = group[observable_column].dropna()\n",
    "        group_std = clean_data.std()\n",
    "        group_mean = clean_data.mean()\n",
    "        \n",
    "        #plot histograms\n",
    "        hist_ax[i].hist(clean_data)\n",
    "        hist_ax[i].set_title(group_key)\n",
    "        log_data = np.log(clean_data[clean_data != 0])\n",
    "        hist_ax_log[i].hist(log_data)\n",
    "     \n",
    "        \n",
    "        i = i + 1\n",
    "    \n",
    "    \n",
    "    "
   ]
  },
  {
   "cell_type": "code",
   "execution_count": null,
   "metadata": {},
   "outputs": [],
   "source": []
  }
 ],
 "metadata": {
  "kernelspec": {
   "display_name": "Python 3",
   "language": "python",
   "name": "python3"
  },
  "language_info": {
   "codemirror_mode": {
    "name": "ipython",
    "version": 3
   },
   "file_extension": ".py",
   "mimetype": "text/x-python",
   "name": "python",
   "nbconvert_exporter": "python",
   "pygments_lexer": "ipython3",
   "version": "3.6.1"
  }
 },
 "nbformat": 4,
 "nbformat_minor": 1
}
